{
 "cells": [
  {
   "cell_type": "markdown",
   "metadata": {},
   "source": [
    "# First Post"
   ]
  },
  {
   "cell_type": "markdown",
   "metadata": {},
   "source": [
    "Hello, World! \n",
    "\n",
    "Welcome to my data blog. It has forever been on my to-do list to document some of the data-y things that I've been working on that I find interesting and that I think some others also may find interesting or helpful. After 2 years of procrastination, it is time. Welcome!\n",
    "\n",
    "To kick things off, I thought it would be fun to reflect on the first end-to-end data project I ever completed, back in February of 2015. If your first thought was \"I bet you he did a project on Citibike data\", go ahead and pat yourself on the back. I apologize in advance for contributing to the ad nauseam amount of Citibike of posts that exist on the internet. Hopefully you find my unique take particularly interesting!\n",
    "\n",
    "At the time of this project, I was not yet a Stats Analyst at Birchbox, and was doing all my data work and analyses outside of my job. Unknowingly, this project marked the beginning of a lifetime career of self-learning."
   ]
  },
  {
   "cell_type": "markdown",
   "metadata": {},
   "source": [
    "## The Project!"
   ]
  },
  {
   "cell_type": "markdown",
   "metadata": {},
   "source": [
    "When I started this project, Citibike was already a popular data source for analytical project work. To add a small degree of complexity, I decided to also include weather data. Wanting to be somewhat unique,  \n",
    "\n",
    "When I was working on the project two years ago, I knew I would want to publish it somewhere, so I discovered R Shiny. app to display the project, but have since taken it down. "
   ]
  }
 ],
 "metadata": {
  "kernelspec": {
   "display_name": "Python 2",
   "language": "python",
   "name": "python2"
  },
  "language_info": {
   "codemirror_mode": {
    "name": "ipython",
    "version": 2
   },
   "file_extension": ".py",
   "mimetype": "text/x-python",
   "name": "python",
   "nbconvert_exporter": "python",
   "pygments_lexer": "ipython2",
   "version": "2.7.13"
  }
 },
 "nbformat": 4,
 "nbformat_minor": 2
}
